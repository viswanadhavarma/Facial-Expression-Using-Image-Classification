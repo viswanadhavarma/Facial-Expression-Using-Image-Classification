{
  "nbformat": 4,
  "nbformat_minor": 0,
  "metadata": {
    "colab": {
      "provenance": [],
      "gpuType": "T4",
      "authorship_tag": "ABX9TyPP4yiUcZbf0HadX6VnezVM",
      "include_colab_link": true
    },
    "kernelspec": {
      "name": "python3",
      "display_name": "Python 3"
    },
    "language_info": {
      "name": "python"
    },
    "accelerator": "GPU"
  },
  "cells": [
    {
      "cell_type": "markdown",
      "metadata": {
        "id": "view-in-github",
        "colab_type": "text"
      },
      "source": [
        "<a href=\"https://colab.research.google.com/github/viswanadhavarma/Facial-Expression-Using-Image-Classification/blob/main/Facial_Expression_Using_Image_Classification.ipynb\" target=\"_parent\"><img src=\"https://colab.research.google.com/assets/colab-badge.svg\" alt=\"Open In Colab\"/></a>"
      ]
    },
    {
      "cell_type": "markdown",
      "source": [
        "# Downloading DataSet"
      ],
      "metadata": {
        "id": "w-lT9fGX8LZL"
      }
    },
    {
      "cell_type": "code",
      "source": [
        "!pip install kaggle\n",
        "\n",
        "import os\n",
        "os.rename('kaggle.json', '/content/kaggle.json')\n",
        "\n",
        "os.environ['KAGGLE_CONFIG_DIR'] = \"/content\"\n",
        "\n",
        "!kaggle datasets download -d aadityasinghal/facial-expression-dataset\n",
        "\n",
        "import zipfile\n",
        "\n",
        "# If the dataset is in a zip file\n",
        "with zipfile.ZipFile(\"facial-expression-dataset.zip\", 'r') as zip_ref:\n",
        "    zip_ref.extractall(\"facial-expression-dataset\")\n",
        "\n",
        "import os\n",
        "\n",
        "dataset_path = \"/content/facial-expression-dataset\"\n",
        "print(os.listdir(dataset_path))"
      ],
      "metadata": {
        "id": "_mtjjqktWGFN"
      },
      "execution_count": null,
      "outputs": []
    },
    {
      "cell_type": "code",
      "source": [
        "!pip install tensorflow"
      ],
      "metadata": {
        "id": "q9Xq0ukS5zYX"
      },
      "execution_count": null,
      "outputs": []
    },
    {
      "cell_type": "markdown",
      "source": [
        "# Importing Modules"
      ],
      "metadata": {
        "id": "_gcJbY_sLI7O"
      }
    },
    {
      "cell_type": "code",
      "execution_count": null,
      "metadata": {
        "id": "ASnRWhxeK_MQ"
      },
      "outputs": [],
      "source": [
        "import pandas as pd\n",
        "import numpy as np\n",
        "import os\n",
        "import matplotlib.pyplot as plt\n",
        "import seaborn as sns\n",
        "import warnings\n",
        "from tqdm.notebook import tqdm\n",
        "warnings.filterwarnings('ignore')\n",
        "%matplotlib inline\n",
        "import tensorflow as tf\n",
        "from tensorflow.keras.utils import to_categorical\n",
        "from keras.preprocessing.image import load_img\n",
        "from keras.models import Sequential\n",
        "from keras.layers import Dense, Conv2D, Dropout, Flatten, MaxPooling2D"
      ]
    },
    {
      "cell_type": "markdown",
      "source": [
        "# Load the DataSet"
      ],
      "metadata": {
        "id": "88b-aE3YMxxG"
      }
    },
    {
      "cell_type": "code",
      "source": [
        "TRAIN_DIR = '/content/facial-expression-dataset/train/train'\n",
        "TEST_DIR = '/content/facial-expression-dataset/test/test'"
      ],
      "metadata": {
        "id": "d238QYRULuq3"
      },
      "execution_count": null,
      "outputs": []
    },
    {
      "cell_type": "code",
      "source": [
        "def load_dataset(directory):\n",
        "  image_paths = []\n",
        "  labels = []\n",
        "  for label in os.listdir(directory):\n",
        "    for filename in os.listdir(os.path.join(directory, label)): # Use os.path.join to create the correct path\n",
        "      image_path = os.path.join(directory, label, filename)\n",
        "      image_paths.append(image_path)\n",
        "      labels.append(label)\n",
        "    print(label, \"Completed\")\n",
        "  return image_paths, labels"
      ],
      "metadata": {
        "id": "TfUYYlmiNENA"
      },
      "execution_count": null,
      "outputs": []
    },
    {
      "cell_type": "code",
      "source": [
        "## convert into dataframe\n",
        "train = pd.DataFrame()\n",
        "train['image'], train ['label'] = load_dataset(TRAIN_DIR)\n",
        "# shuffle the dataset\n",
        "train = train.sample(frac=1).reset_index(drop=True)\n",
        "train.head()"
      ],
      "metadata": {
        "id": "MxonfZgJN6gy"
      },
      "execution_count": null,
      "outputs": []
    },
    {
      "source": [
        "def load_dataset(directory):\n",
        "  image_paths = []\n",
        "  labels = []\n",
        "  for label in os.listdir(directory):\n",
        "    for filename in os.listdir(os.path.join(directory, label)): # Use os.path.join to create the correct path\n",
        "      image_path = os.path.join(directory, label, filename)\n",
        "      image_paths.append(image_path)\n",
        "      labels.append(label)\n",
        "    print(label, \"Completed\")\n",
        "  return image_paths, labels"
      ],
      "cell_type": "code",
      "metadata": {
        "id": "XbcF-C3XZ0jf"
      },
      "execution_count": null,
      "outputs": []
    },
    {
      "cell_type": "code",
      "source": [
        "test = pd.DataFrame()\n",
        "test['image'], test ['label'] = load_dataset(TEST_DIR)\n",
        "test.head()"
      ],
      "metadata": {
        "id": "R1wWkF6VOwYd"
      },
      "execution_count": null,
      "outputs": []
    },
    {
      "cell_type": "markdown",
      "source": [
        "# Exploratory Data Analysis"
      ],
      "metadata": {
        "id": "uze-6ynTPGYJ"
      }
    },
    {
      "cell_type": "code",
      "source": [
        "sns.countplot(train['label'])"
      ],
      "metadata": {
        "id": "676n2yIyPC_2"
      },
      "execution_count": null,
      "outputs": []
    },
    {
      "cell_type": "code",
      "source": [
        "from PIL import Image\n",
        "img = Image.open(train['image'][0])\n",
        "plt.imshow(img, cmap='gray')"
      ],
      "metadata": {
        "id": "XmhjNyqwPasa"
      },
      "execution_count": null,
      "outputs": []
    },
    {
      "cell_type": "code",
      "source": [
        "#to display grid of images\n",
        "plt.figure(figsize=(25,25))\n",
        "files = train.iloc[0:25]\n",
        "for index, file, label in files.itertuples():\n",
        "  plt.subplot(5, 5, index+1)\n",
        "  img = load_img(file)\n",
        "  img = np.array(img)\n",
        "  plt.imshow(img)\n",
        "  plt.title(label)\n",
        "  plt.axis('off')"
      ],
      "metadata": {
        "id": "d9BPU4-5P3Z6"
      },
      "execution_count": null,
      "outputs": []
    },
    {
      "cell_type": "markdown",
      "source": [
        "# Feature Extraction"
      ],
      "metadata": {
        "id": "QarEEhtWQyEe"
      }
    },
    {
      "cell_type": "code",
      "source": [
        "def extract_features(images):\n",
        "  features = []\n",
        "  for image in tqdm(images):\n",
        "    # Use color_mode='grayscale' instead of grayscale=True\n",
        "    img = load_img(image, color_mode='grayscale')\n",
        "    img= np.array(img)\n",
        "    features.append(img)\n",
        "  features = np.array(features)\n",
        "  features = features.reshape(len(features), 48, 48, 1)\n",
        "  return features"
      ],
      "metadata": {
        "id": "alcmDz21QtS5"
      },
      "execution_count": null,
      "outputs": []
    },
    {
      "cell_type": "code",
      "source": [
        "train_features = extract_features(train['image'])"
      ],
      "metadata": {
        "id": "BidAIfHMRpET"
      },
      "execution_count": null,
      "outputs": []
    },
    {
      "cell_type": "code",
      "source": [
        "test_features = extract_features(test['image'])"
      ],
      "metadata": {
        "id": "yz3HkTnhSp2V"
      },
      "execution_count": null,
      "outputs": []
    },
    {
      "cell_type": "code",
      "source": [
        "## normalize the image\n",
        "x_train = train_features/255.0\n",
        "x_test = test_features/255.0"
      ],
      "metadata": {
        "id": "AXQjhFKjSrC5"
      },
      "execution_count": null,
      "outputs": []
    },
    {
      "cell_type": "code",
      "source": [
        "## convert label to integer\n",
        "from sklearn.preprocessing import LabelEncoder\n",
        "le = LabelEncoder()\n",
        "le.fit(train['label'])\n",
        "label_mapping = dict(zip(le.transform(le.classes_), le.classes_))\n",
        "print(label_mapping)\n",
        "print(train[['image', 'label']].head())\n",
        "\n",
        "# For test dataset\n",
        "print(test[['image', 'label']].head())"
      ],
      "metadata": {
        "id": "_TvqGKOzTJyF"
      },
      "execution_count": null,
      "outputs": []
    },
    {
      "cell_type": "code",
      "source": [
        "y_train = le.transform(train['label'])\n",
        "y_test = le.transform(test['label'])"
      ],
      "metadata": {
        "id": "TMe1UOlSZAaM"
      },
      "execution_count": null,
      "outputs": []
    },
    {
      "cell_type": "code",
      "source": [
        "emotion_label = le.inverse_transform([np.argmax(y_train[0])])\n",
        "print(emotion_label)"
      ],
      "metadata": {
        "id": "lUmqG29kZJc8"
      },
      "execution_count": null,
      "outputs": []
    },
    {
      "cell_type": "code",
      "source": [
        "y_train = to_categorical(y_train, num_classes=7)\n",
        "y_test = to_categorical(y_test, num_classes=7)"
      ],
      "metadata": {
        "id": "GUGEFm8nTZoW"
      },
      "execution_count": null,
      "outputs": []
    },
    {
      "cell_type": "code",
      "source": [
        "y_train[0]"
      ],
      "metadata": {
        "id": "KvCBnRu3UWYx"
      },
      "execution_count": null,
      "outputs": []
    },
    {
      "cell_type": "code",
      "source": [
        "# config input_shape\n",
        "input_shape = (48, 48, 1)\n",
        "output_class = 7"
      ],
      "metadata": {
        "id": "r2G9OuswUXi3"
      },
      "execution_count": null,
      "outputs": []
    },
    {
      "cell_type": "markdown",
      "source": [
        "# Model Creation"
      ],
      "metadata": {
        "id": "ZSA_-etpUnZ1"
      }
    },
    {
      "cell_type": "code",
      "source": [
        "model = Sequential()\n",
        "model.add(Conv2D(128, kernel_size=(3,3), activation='relu', input_shape=input_shape))\n",
        "model.add(MaxPooling2D(pool_size=(2,2)))\n",
        "model.add(Dropout(0.4))\n",
        "\n",
        "model.add(Conv2D(256, kernel_size=(3,3), activation= 'relu'))\n",
        "model.add(MaxPooling2D(pool_size=(2,2)))\n",
        "model.add(Dropout(0.4))\n",
        "\n",
        "model.add(Conv2D(512, kernel_size=(3,3), activation='relu'))\n",
        "model.add(MaxPooling2D(pool_size=(2,2)))\n",
        "model.add(Dropout(0.4))\n",
        "\n",
        "model.add(Conv2D(512, kernel_size=(3,3), activation='relu'))\n",
        "model.add(MaxPooling2D(pool_size=(2,2)))\n",
        "model.add(Dropout(0.4))\n",
        "\n",
        "model.add(Flatten())\n",
        "# fully connected layer\n",
        "model.add(Dense(512, activation='relu'))\n",
        "model.add(Dropout(0.4))\n",
        "model.add(Dense(256, activation='relu'))\n",
        "model.add(Dropout(0.3))\n",
        "# output layer\n",
        "model.add(Dense(output_class, activation='softmax'))\n",
        "\n",
        "model.compile(optimizer='adam', loss='categorical_crossentropy', metrics=['accuracy'])"
      ],
      "metadata": {
        "id": "VZsD22Z0UjZN"
      },
      "execution_count": null,
      "outputs": []
    },
    {
      "cell_type": "code",
      "source": [
        "# train the model\n",
        "history = model.fit(x=x_train, y=y_train, batch_size=128, epochs=100, validation_data=(x_test, y_test))"
      ],
      "metadata": {
        "id": "W4fuK5EAYM7E"
      },
      "execution_count": null,
      "outputs": []
    },
    {
      "cell_type": "markdown",
      "source": [
        "# Plot the Results"
      ],
      "metadata": {
        "id": "m1_mNuSbYjm2"
      }
    },
    {
      "cell_type": "code",
      "source": [
        "from sklearn.metrics import confusion_matrix\n",
        "\n",
        "\n",
        "y_pred = model.predict(x_test)\n",
        "\n",
        "# Convert predictions from one-hot encoding to labels\n",
        "y_pred_labels = np.argmax(y_pred, axis=1)\n",
        "y_true_labels = np.argmax(y_test, axis=1)\n",
        "\n",
        "\n",
        "# Confusion Matrix\n",
        "conf_matrix = confusion_matrix(y_true_labels, y_pred_labels)\n",
        "print(\"Confusion Matrix:\")\n",
        "print(conf_matrix)\n",
        "\n",
        "# Visualize Confusion Matrix with Seaborn heatmap\n",
        "plt.figure(figsize=(10, 8))\n",
        "sns.heatmap(conf_matrix, annot=True, fmt='d', cmap='Blues', xticklabels=le.classes_, yticklabels=le.classes_)\n",
        "plt.xlabel('Predicted')\n",
        "plt.ylabel('True')\n",
        "plt.title('Confusion Matrix')\n",
        "plt.show()"
      ],
      "metadata": {
        "id": "95G2tIfy_ZoO"
      },
      "execution_count": null,
      "outputs": []
    },
    {
      "cell_type": "code",
      "source": [
        "acc = history.history['accuracy']\n",
        "val_acc = history.history['val_accuracy']\n",
        "epochs = range(len(acc))\n",
        "plt.plot(epochs, acc, 'b', label='Training Accuracy')\n",
        "plt.plot(epochs, val_acc, 'r', label='Validation Accuracy')\n",
        "plt.title('Accuracy Graph')\n",
        "plt.legend()\n",
        "plt.figure()\n",
        "\n",
        "loss = history.history['loss']\n",
        "val_loss = history.history['val_loss']\n",
        "epochs = range(len(acc))\n",
        "plt.plot(epochs, loss, 'b', label='Training Loss')\n",
        "plt.plot(epochs, val_loss, 'r', label='Validation Loss')\n",
        "plt.title(\"Loss Graph\")\n",
        "plt.legend()\n",
        "\n",
        "plt.show()"
      ],
      "metadata": {
        "id": "pSqKZL6uXZss"
      },
      "execution_count": null,
      "outputs": []
    },
    {
      "cell_type": "code",
      "source": [
        "import random\n",
        "image_index = random.randint(0, len(test))\n",
        "print(\"Original Output:\", test['label'][image_index])\n",
        "pred = model.predict(x_test[image_index].reshape(1, 48, 48, 1))\n",
        "prediction_label= le.inverse_transform([pred.argmax()])[0]\n",
        "print(\"Predicted Output:\", prediction_label)\n",
        "plt.imshow(x_test[image_index].reshape(48, 48), cmap='gray')"
      ],
      "metadata": {
        "id": "2uXSgAPyYpJQ"
      },
      "execution_count": null,
      "outputs": []
    },
    {
      "cell_type": "code",
      "source": [
        "image_index = random.randint(0, len(test))\n",
        "print(\"Original Output:\", test['label'][image_index])\n",
        "pred = model.predict(x_test[image_index].reshape(1, 48, 48, 1))\n",
        "prediction_label= le.inverse_transform([pred.argmax()])[0]\n",
        "print(\"Predicted Output:\", prediction_label)\n",
        "plt.imshow(x_test[image_index].reshape(48, 48), cmap='gray')"
      ],
      "metadata": {
        "id": "ttpENNn_C8DE"
      },
      "execution_count": null,
      "outputs": []
    },
    {
      "cell_type": "code",
      "source": [
        "image_index = random.randint(0, len(test))\n",
        "print(\"Original Output:\", test['label'][image_index])\n",
        "pred = model.predict(x_test[image_index].reshape(1, 48, 48, 1))\n",
        "prediction_label= le.inverse_transform([pred.argmax()])[0]\n",
        "print(\"Predicted Output:\", prediction_label)\n",
        "plt.imshow(x_test[image_index].reshape(48, 48), cmap='gray')"
      ],
      "metadata": {
        "id": "nwUDTO6wC9Cw"
      },
      "execution_count": null,
      "outputs": []
    },
    {
      "cell_type": "code",
      "source": [
        "image_index = random.randint(0, len(test))\n",
        "print(\"Original Output:\", test['label'][image_index])\n",
        "pred = model.predict(x_test[image_index].reshape(1, 48, 48, 1))\n",
        "prediction_label= le.inverse_transform([pred.argmax()])[0]\n",
        "print(\"Predicted Output:\", prediction_label)\n",
        "plt.imshow(x_test[image_index].reshape(48, 48), cmap='gray')"
      ],
      "metadata": {
        "id": "UtS1ntQ0C-HT"
      },
      "execution_count": null,
      "outputs": []
    },
    {
      "cell_type": "code",
      "source": [
        "image_index = random.randint(0, len(test))\n",
        "print(\"Original Output:\", test['label'][image_index])\n",
        "pred = model.predict(x_test[image_index].reshape(1, 48, 48, 1))\n",
        "prediction_label= le.inverse_transform([pred.argmax()])[0]\n",
        "print(\"Predicted Output:\", prediction_label)\n",
        "plt.imshow(x_test[image_index].reshape(48, 48), cmap='gray')"
      ],
      "metadata": {
        "id": "g-NDqG7eC_B_"
      },
      "execution_count": null,
      "outputs": []
    },
    {
      "cell_type": "code",
      "source": [
        "image_index = random.randint(0, len(test))\n",
        "print(\"Original Output:\", test['label'][image_index])\n",
        "pred = model.predict(x_test[image_index].reshape(1, 48, 48, 1))\n",
        "prediction_label= le.inverse_transform([pred.argmax()])[0]\n",
        "print(\"Predicted Output:\", prediction_label)\n",
        "plt.imshow(x_test[image_index].reshape(48, 48), cmap='gray')"
      ],
      "metadata": {
        "id": "sQH_6m2KDGgX"
      },
      "execution_count": null,
      "outputs": []
    },
    {
      "cell_type": "code",
      "source": [
        "image_index = random.randint(0, len(test))\n",
        "print(\"Original Output:\", test['label'][image_index])\n",
        "pred = model.predict(x_test[image_index].reshape(1, 48, 48, 1))\n",
        "prediction_label= le.inverse_transform([pred.argmax()])[0]\n",
        "print(\"Predicted Output:\", prediction_label)\n",
        "plt.imshow(x_test[image_index].reshape(48, 48), cmap='gray')"
      ],
      "metadata": {
        "id": "GNDA1YwODOoV"
      },
      "execution_count": null,
      "outputs": []
    },
    {
      "cell_type": "code",
      "source": [
        "image_index = random.randint(0, len(test))\n",
        "print(\"Original Output:\", test['label'][image_index])\n",
        "pred = model.predict(x_test[image_index].reshape(1, 48, 48, 1))\n",
        "prediction_label= le.inverse_transform([pred.argmax()])[0]\n",
        "print(\"Predicted Output:\", prediction_label)\n",
        "plt.imshow(x_test[image_index].reshape(48, 48), cmap='gray')"
      ],
      "metadata": {
        "id": "eg26XOsXDTGy"
      },
      "execution_count": null,
      "outputs": []
    },
    {
      "cell_type": "markdown",
      "source": [
        "# Saving the Model"
      ],
      "metadata": {
        "id": "1NifwBH7YDZz"
      }
    },
    {
      "cell_type": "code",
      "source": [
        "model.save('/content/facial_expression_model.h5')"
      ],
      "metadata": {
        "id": "SgUaJY7lwgcf"
      },
      "execution_count": null,
      "outputs": []
    }
  ]
}